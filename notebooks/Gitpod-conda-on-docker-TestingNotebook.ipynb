{
 "cells": [
  {
   "cell_type": "markdown",
   "id": "3fd9bb0f",
   "metadata": {},
   "source": [
    "## Testing on Gitpod - Initial notebook"
   ]
  },
  {
   "cell_type": "markdown",
   "id": "07740c89",
   "metadata": {},
   "source": [
    "Needed to pass the following option to get Jupyter notebooks working on this Gitpod setup\n",
    "\n",
    "`jupyter notebook --NotebookApp.allow_origin='*'`"
   ]
  },
  {
   "cell_type": "markdown",
   "id": "8be1eb4f",
   "metadata": {},
   "source": [
    "Using the `dbooth-dev` environment setup."
   ]
  },
  {
   "cell_type": "markdown",
   "id": "46fef430",
   "metadata": {},
   "source": [
    "```\n",
    "pip install conda-lock\n",
    "/home/gitpod/.local/bin/conda-lock -p linux-64 -f environment.yml\n",
    "mamba create --name dbooth-dev --file conda-linux-64.lock \n",
    "source activate dbooth-dev\n",
    "python -m ipykernel install --user --name=dbooth-dev\n",
    "jupyter notebook --generate-config\n",
    "more /home/gitpod/.jupyter/jupyter_notebook_config.py \n",
    "jupyter notebook --NotebookApp.allow_origin='*'\n",
    "```"
   ]
  },
  {
   "cell_type": "markdown",
   "id": "4813e087",
   "metadata": {},
   "source": [
    "Maybe need to `pipx install conda-lock` -- although code do all this outside the container for faster build time?"
   ]
  },
  {
   "cell_type": "markdown",
   "id": "09d7e00f",
   "metadata": {},
   "source": [
    "Also need to get the browser opening without the dialog box.\n",
    "\n",
    "Also take a look at Streamlit \n",
    "\n",
    "Then the repeatability / speed of it. \n",
    "\n",
    "Then deployment to Streamlit."
   ]
  },
  {
   "cell_type": "code",
   "execution_count": null,
   "id": "eecb6229",
   "metadata": {},
   "outputs": [],
   "source": []
  }
 ],
 "metadata": {
  "kernelspec": {
   "display_name": "dbooth-dev",
   "language": "python",
   "name": "dbooth-dev"
  },
  "language_info": {
   "codemirror_mode": {
    "name": "ipython",
    "version": 3
   },
   "file_extension": ".py",
   "mimetype": "text/x-python",
   "name": "python",
   "nbconvert_exporter": "python",
   "pygments_lexer": "ipython3",
   "version": "3.8.12"
  }
 },
 "nbformat": 4,
 "nbformat_minor": 5
}
